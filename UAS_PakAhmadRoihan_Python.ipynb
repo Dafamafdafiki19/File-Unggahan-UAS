{
  "nbformat": 4,
  "nbformat_minor": 0,
  "metadata": {
    "colab": {
      "provenance": [],
      "authorship_tag": "ABX9TyOygBPw/f/Xj0qDjK7xlAbf",
      "include_colab_link": true
    },
    "kernelspec": {
      "name": "python3",
      "display_name": "Python 3"
    },
    "language_info": {
      "name": "python"
    }
  },
  "cells": [
    {
      "cell_type": "markdown",
      "metadata": {
        "id": "view-in-github",
        "colab_type": "text"
      },
      "source": [
        "<a href=\"https://colab.research.google.com/github/Dafamafdafiki19/File-Unggahan-UAS/blob/main/UAS_PakAhmadRoihan_Python.ipynb\" target=\"_parent\"><img src=\"https://colab.research.google.com/assets/colab-badge.svg\" alt=\"Open In Colab\"/></a>"
      ]
    },
    {
      "cell_type": "markdown",
      "source": [],
      "metadata": {
        "id": "JyeFG6QCyjUB"
      }
    },
    {
      "source": [
        "# Membuat list\n",
        "my_list = [1, 2, 3, 'empat', 5.0]\n",
        "\n",
        "# Mengakses elemen\n",
        "print(my_list[0])  # Output: 1\n",
        "print(my_list[3])  # Output: empat\n",
        "\n",
        "# Menambahkan elemen\n",
        "my_list.append(6)  # Menambahkan 6 di akhir list\n",
        "my_list.insert(2, 'baru')  # Menambahkan 'baru' pada indeks 2\n",
        "\n",
        "# Menghapus elemen\n",
        "my_list.remove('empat')  # Menghapus elemen 'empat'\n",
        "del my_list[0]  # Menghapus elemen pada indeks 0\n",
        "\n",
        "# Mencetak list yang telah dimodifikasi\n",
        "print(my_list)"
      ],
      "cell_type": "code",
      "metadata": {
        "colab": {
          "base_uri": "https://localhost:8080/"
        },
        "id": "8R-4jLJa2BBu",
        "outputId": "46cb680b-53bd-4c70-8769-6f7950fe82d6"
      },
      "execution_count": 8,
      "outputs": [
        {
          "output_type": "stream",
          "name": "stdout",
          "text": [
            "1\n",
            "empat\n",
            "[2, 'baru', 3, 5.0, 6]\n"
          ]
        }
      ]
    }
  ]
}