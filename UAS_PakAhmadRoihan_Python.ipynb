{
  "nbformat": 4,
  "nbformat_minor": 0,
  "metadata": {
    "colab": {
      "provenance": [],
      "authorship_tag": "ABX9TyPfpgtkVfKQcVmw0rhCxzY1",
      "include_colab_link": true
    },
    "kernelspec": {
      "name": "python3",
      "display_name": "Python 3"
    },
    "language_info": {
      "name": "python"
    }
  },
  "cells": [
    {
      "cell_type": "markdown",
      "metadata": {
        "id": "view-in-github",
        "colab_type": "text"
      },
      "source": [
        "<a href=\"https://colab.research.google.com/github/Dafamafdafiki19/File-Unggahan-UAS/blob/main/UAS_PakAhmadRoihan_Python.ipynb\" target=\"_parent\"><img src=\"https://colab.research.google.com/assets/colab-badge.svg\" alt=\"Open In Colab\"/></a>"
      ]
    },
    {
      "cell_type": "markdown",
      "source": [],
      "metadata": {
        "id": "JyeFG6QCyjUB"
      }
    },
    {
      "source": [
        "# Membuka file dalam mode tulis ('w')\n",
        "file = open(\"data.txt\", \"w\")\n",
        "\n",
        "# Menulis string ke dalam file\n",
        "file.write(\"Pemrograman Python Dasar\")\n",
        "\n",
        "# Menutup file\n",
        "file.close()\n",
        "\n",
        "# Membuka file dalam mode baca ('r')\n",
        "file = open(\"data.txt\", \"r\")\n",
        "\n",
        "# Membaca isi file dan menampilkannya\n",
        "isi_file = file.read()\n",
        "print(isi_file)\n",
        "\n",
        "# Menutup file\n",
        "file.close()"
      ],
      "cell_type": "code",
      "metadata": {
        "colab": {
          "base_uri": "https://localhost:8080/"
        },
        "id": "iR9ekF4t35Ap",
        "outputId": "85296a3b-fad8-4729-d349-cfec2f18f8a4"
      },
      "execution_count": 9,
      "outputs": [
        {
          "output_type": "stream",
          "name": "stdout",
          "text": [
            "Pemrograman Python Dasar\n"
          ]
        }
      ]
    }
  ]
}