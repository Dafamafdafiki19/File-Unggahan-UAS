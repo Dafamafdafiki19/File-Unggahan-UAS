{
  "nbformat": 4,
  "nbformat_minor": 0,
  "metadata": {
    "colab": {
      "provenance": [],
      "authorship_tag": "ABX9TyMQgmHlbtTlKJy3RapIbWOR",
      "include_colab_link": true
    },
    "kernelspec": {
      "name": "python3",
      "display_name": "Python 3"
    },
    "language_info": {
      "name": "python"
    }
  },
  "cells": [
    {
      "cell_type": "markdown",
      "metadata": {
        "id": "view-in-github",
        "colab_type": "text"
      },
      "source": [
        "<a href=\"https://colab.research.google.com/github/Dafamafdafiki19/File-Unggahan-UAS/blob/main/UAS_PakAhmadRoihan_Python.ipynb\" target=\"_parent\"><img src=\"https://colab.research.google.com/assets/colab-badge.svg\" alt=\"Open In Colab\"/></a>"
      ]
    },
    {
      "cell_type": "markdown",
      "source": [
        "1. PENGGABUNGAN"
      ],
      "metadata": {
        "id": "RR89IOBO5bhU"
      }
    },
    {
      "source": [
        "string1 = \"Halo\"\n",
        "string2 = \"Dunia\"\n",
        "\n",
        "\n",
        "string_gabungan = string1 + \" \" + string2\n",
        "print(string_gabungan)\n",
        "\n",
        "\n",
        "daftar_kata = [\"Belajar\", \"Python\", \"di\", \"mana aja\"]\n",
        "kalimat = \" \".join(daftar_kata)\n",
        "print(kalimat)"
      ],
      "cell_type": "code",
      "metadata": {
        "colab": {
          "base_uri": "https://localhost:8080/"
        },
        "id": "vKlkpl_K5gO7",
        "outputId": "9d7eecbd-89cf-4522-8dd5-a27963f54755"
      },
      "execution_count": 15,
      "outputs": [
        {
          "output_type": "stream",
          "name": "stdout",
          "text": [
            "Halo Dunia\n",
            "Belajar Python di mana aja\n"
          ]
        }
      ]
    },
    {
      "cell_type": "markdown",
      "source": [
        "2. PEMISAHAN"
      ],
      "metadata": {
        "id": "JyeFG6QCyjUB"
      }
    },
    {
      "source": [
        "teks = \"Ini adalah contoh program sederhana.\"\n",
        "\n",
        "\n",
        "kata_kata = teks.split(\" \")\n",
        "print(kata_kata)\n",
        "\n",
        "\n",
        "data = \"apel,pisang,jeruk\"\n",
        "buah = data.split(\",\")\n",
        "print(buah)"
      ],
      "cell_type": "code",
      "metadata": {
        "colab": {
          "base_uri": "https://localhost:8080/"
        },
        "id": "ZpV1jt2e5mxy",
        "outputId": "145a2294-2014-4660-f8f6-e4b63066e270"
      },
      "execution_count": 18,
      "outputs": [
        {
          "output_type": "stream",
          "name": "stdout",
          "text": [
            "['Ini', 'adalah', 'contoh', 'program', 'sederhana.']\n",
            "['apel', 'pisang', 'jeruk']\n"
          ]
        }
      ]
    },
    {
      "cell_type": "markdown",
      "source": [
        "3. Pencarian Substring (Finding Substrings)"
      ],
      "metadata": {
        "id": "kfzYdkMh5pSw"
      }
    },
    {
      "source": [
        "kalimat = \"Python adalah bahasa pemrograman yang populer.\"\n",
        "\n",
        "if \"Python\" in kalimat:\n",
        "    print(\"Substring 'Python' ditemukan dalam kalimat.\")\n",
        "\n",
        "posisi = kalimat.find(\"bahasa\")\n",
        "if posisi != -1:\n",
        "    print(f\"Substring 'bahasa' ditemukan pada posisi {posisi}.\")"
      ],
      "cell_type": "code",
      "metadata": {
        "colab": {
          "base_uri": "https://localhost:8080/"
        },
        "id": "CdnkZwsC5uOB",
        "outputId": "27138f77-1b4b-4571-f5cb-8bb8e4f42f6b"
      },
      "execution_count": 17,
      "outputs": [
        {
          "output_type": "stream",
          "name": "stdout",
          "text": [
            "Substring 'Python' ditemukan dalam kalimat.\n",
            "Substring 'bahasa' ditemukan pada posisi 14.\n"
          ]
        }
      ]
    }
  ]
}