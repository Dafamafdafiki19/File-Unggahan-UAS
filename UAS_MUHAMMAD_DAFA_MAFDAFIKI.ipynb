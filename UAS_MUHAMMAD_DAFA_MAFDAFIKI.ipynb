{
  "nbformat": 4,
  "nbformat_minor": 0,
  "metadata": {
    "colab": {
      "provenance": [],
      "authorship_tag": "ABX9TyPAUAE8CYmYJouohBONoleD"
    },
    "kernelspec": {
      "name": "python3",
      "display_name": "Python 3"
    },
    "language_info": {
      "name": "python"
    }
  },
  "cells": [
    {
      "source": [
        "print \"Halo Dunia\" # SyntaxError: missing parentheses in call to 'print'. Did you mean print(\"Halo Dunia\")?"
      ],
      "cell_type": "code",
      "metadata": {
        "colab": {
          "base_uri": "https://localhost:8080/",
          "height": 106
        },
        "id": "V2Lvemf3pfy8",
        "outputId": "96c46df5-f658-41e3-9a79-7f37a5c9ca2d"
      },
      "execution_count": 3,
      "outputs": [
        {
          "output_type": "error",
          "ename": "SyntaxError",
          "evalue": "Missing parentheses in call to 'print'. Did you mean print(...)? (<ipython-input-3-e91b633a2cd1>, line 1)",
          "traceback": [
            "\u001b[0;36m  File \u001b[0;32m\"<ipython-input-3-e91b633a2cd1>\"\u001b[0;36m, line \u001b[0;32m1\u001b[0m\n\u001b[0;31m    print \"Halo Dunia\" # SyntaxError: missing parentheses in call to 'print'. Did you mean print(\"Halo Dunia\")?\u001b[0m\n\u001b[0m    ^\u001b[0m\n\u001b[0;31mSyntaxError\u001b[0m\u001b[0;31m:\u001b[0m Missing parentheses in call to 'print'. Did you mean print(...)?\n"
          ]
        }
      ]
    },
    {
      "cell_type": "markdown",
      "source": [
        "DIATAS MERUPAKAN CONTOH SyntaxError, kenapa bisa terjadi Error? karena diawal subjek atau kata yang ingin di print, tidak ada tantang buka-tutup kurung (\"\").\n",
        "Seharusnya yang benar adalah seperti dibawah ini"
      ],
      "metadata": {
        "id": "jUlpfBV6qqR1"
      }
    },
    {
      "cell_type": "code",
      "source": [
        "print(\"Halo Dunia\")"
      ],
      "metadata": {
        "colab": {
          "base_uri": "https://localhost:8080/"
        },
        "id": "gIMQLXT2rTeq",
        "outputId": "0b1e3d2e-436c-43e4-c869-f565e321a47b"
      },
      "execution_count": 4,
      "outputs": [
        {
          "output_type": "stream",
          "name": "stdout",
          "text": [
            "Halo Dunia\n"
          ]
        }
      ]
    },
    {
      "cell_type": "markdown",
      "source": [],
      "metadata": {
        "id": "bGI54VhWrS7h"
      }
    }
  ]
}