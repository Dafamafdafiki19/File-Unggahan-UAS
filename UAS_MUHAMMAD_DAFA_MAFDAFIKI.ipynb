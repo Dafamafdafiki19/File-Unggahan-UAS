{
  "nbformat": 4,
  "nbformat_minor": 0,
  "metadata": {
    "colab": {
      "provenance": [],
      "authorship_tag": "ABX9TyP9JUHY2mUUH38BMuLicQ/P",
      "include_colab_link": true
    },
    "kernelspec": {
      "name": "python3",
      "display_name": "Python 3"
    },
    "language_info": {
      "name": "python"
    }
  },
  "cells": [
    {
      "cell_type": "markdown",
      "metadata": {
        "id": "view-in-github",
        "colab_type": "text"
      },
      "source": [
        "<a href=\"https://colab.research.google.com/github/Dafamafdafiki19/File-Unggahan-UAS/blob/main/UAS_MUHAMMAD_DAFA_MAFDAFIKI.ipynb\" target=\"_parent\"><img src=\"https://colab.research.google.com/assets/colab-badge.svg\" alt=\"Open In Colab\"/></a>"
      ]
    },
    {
      "source": [
        "print \"Halo Dunia\" # SyntaxError: missing parentheses in call to 'print'. Did you mean print(\"Halo Dunia\")?"
      ],
      "cell_type": "code",
      "metadata": {
        "colab": {
          "base_uri": "https://localhost:8080/",
          "height": 124
        },
        "id": "V2Lvemf3pfy8",
        "outputId": "96c46df5-f658-41e3-9a79-7f37a5c9ca2d"
      },
      "execution_count": 3,
      "outputs": [
        {
          "output_type": "error",
          "ename": "SyntaxError",
          "evalue": "Missing parentheses in call to 'print'. Did you mean print(...)? (<ipython-input-3-e91b633a2cd1>, line 1)",
          "traceback": [
            "\u001b[0;36m  File \u001b[0;32m\"<ipython-input-3-e91b633a2cd1>\"\u001b[0;36m, line \u001b[0;32m1\u001b[0m\n\u001b[0;31m    print \"Halo Dunia\" # SyntaxError: missing parentheses in call to 'print'. Did you mean print(\"Halo Dunia\")?\u001b[0m\n\u001b[0m    ^\u001b[0m\n\u001b[0;31mSyntaxError\u001b[0m\u001b[0;31m:\u001b[0m Missing parentheses in call to 'print'. Did you mean print(...)?\n"
          ]
        }
      ]
    },
    {
      "cell_type": "markdown",
      "source": [
        "DIATAS MERUPAKAN CONTOH SyntaxError, kenapa bisa terjadi Error? karena diawal subjek atau kata yang ingin di print, tidak ada tantang buka-tutup kurung (\"\").\n",
        "Seharusnya yang benar adalah seperti dibawah ini"
      ],
      "metadata": {
        "id": "jUlpfBV6qqR1"
      }
    },
    {
      "cell_type": "code",
      "source": [
        "print(\"Halo Dunia\")"
      ],
      "metadata": {
        "colab": {
          "base_uri": "https://localhost:8080/"
        },
        "id": "gIMQLXT2rTeq",
        "outputId": "0b1e3d2e-436c-43e4-c869-f565e321a47b"
      },
      "execution_count": 4,
      "outputs": [
        {
          "output_type": "stream",
          "name": "stdout",
          "text": [
            "Halo Dunia\n"
          ]
        }
      ]
    },
    {
      "cell_type": "markdown",
      "source": [
        "Dibawah ini contoh dari RuntimeError"
      ],
      "metadata": {
        "id": "bGI54VhWrS7h"
      }
    },
    {
      "source": [
        "angka = [1, 2, 3]\n",
        "     print(angka[3])  # IndexError: list index out of range"
      ],
      "cell_type": "code",
      "metadata": {
        "colab": {
          "base_uri": "https://localhost:8080/",
          "height": 106
        },
        "id": "DMIZt-5CsRQA",
        "outputId": "8b4df873-8091-4763-ccb4-a211fb345f79"
      },
      "execution_count": 5,
      "outputs": [
        {
          "output_type": "error",
          "ename": "IndentationError",
          "evalue": "unexpected indent (<ipython-input-5-57194c7de8d7>, line 2)",
          "traceback": [
            "\u001b[0;36m  File \u001b[0;32m\"<ipython-input-5-57194c7de8d7>\"\u001b[0;36m, line \u001b[0;32m2\u001b[0m\n\u001b[0;31m    print(angka[3])  # IndexError: list index out of range\u001b[0m\n\u001b[0m    ^\u001b[0m\n\u001b[0;31mIndentationError\u001b[0m\u001b[0;31m:\u001b[0m unexpected indent\n"
          ]
        }
      ]
    },
    {
      "cell_type": "markdown",
      "source": [
        "Dibawah ini cara penanganannya :\n",
        "Tangani error dengan menggunakan blok try-except. Blok try berisi kode yang berpotensi menimbulkan error, dan blok except berisi kode yang akan dijalankan jika error terjadi."
      ],
      "metadata": {
        "id": "wl9KYzZOstjq"
      }
    },
    {
      "source": [
        "angka = [1, 2, 3]\n",
        "try:\n",
        "    print(angka[3])\n",
        "except IndexError:\n",
        "    print(\"Index di luar jangkauan list.\")"
      ],
      "cell_type": "code",
      "metadata": {
        "colab": {
          "base_uri": "https://localhost:8080/"
        },
        "id": "48gE4wA_tAXh",
        "outputId": "3b0b6cf5-7482-468d-d34b-fa24984d7aae"
      },
      "execution_count": 6,
      "outputs": [
        {
          "output_type": "stream",
          "name": "stdout",
          "text": [
            "Index di luar jangkauan list.\n"
          ]
        }
      ]
    },
    {
      "cell_type": "markdown",
      "source": [
        "Dibawah ini contoh LogicalError"
      ],
      "metadata": {
        "id": "OaY3U-MosqlO"
      }
    },
    {
      "source": [
        "def hitung_luas_persegi(sisi):\n",
        "    luas = sisi + sisi  # Kesalahan logika: seharusnya sisi * sisi\n",
        "    return luas\n",
        "\n",
        "print(hitung_luas_persegi(5))  # Output: 10 (seharusnya 25)"
      ],
      "cell_type": "code",
      "metadata": {
        "colab": {
          "base_uri": "https://localhost:8080/"
        },
        "id": "vLjIIbEjtOOB",
        "outputId": "2bdb5754-f1cc-468b-9ffa-0ba11088ce05"
      },
      "execution_count": 9,
      "outputs": [
        {
          "output_type": "stream",
          "name": "stdout",
          "text": [
            "10\n"
          ]
        }
      ]
    },
    {
      "cell_type": "markdown",
      "source": [
        "Memang Terlihat tidak ada yang salah , namun bisa kita lihat bahwa rumus yang seharusnya kita gunakan untuk mencari Luas persegi adalah sisi * sisi. Berarti bisa kita simpulkan , untuk soal jawaban dari LogicalError tersebut, tanda (+) bisa kita ganti dengan tanda (*)."
      ],
      "metadata": {
        "id": "d6lTia4ZtfFr"
      }
    },
    {
      "cell_type": "code",
      "source": [
        "def hitung_luas_persegi(sisi):\n",
        "    luas = sisi * sisi\n",
        "    return luas\n",
        "\n",
        "print(hitung_luas_persegi(5))"
      ],
      "metadata": {
        "colab": {
          "base_uri": "https://localhost:8080/"
        },
        "id": "SP-qYw5MuPHA",
        "outputId": "f5ddd542-4e95-470d-c80c-24afc263feae"
      },
      "execution_count": 10,
      "outputs": [
        {
          "output_type": "stream",
          "name": "stdout",
          "text": [
            "25\n"
          ]
        }
      ]
    }
  ]
}